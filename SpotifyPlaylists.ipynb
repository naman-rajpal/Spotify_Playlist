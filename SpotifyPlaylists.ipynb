{
  "nbformat": 4,
  "nbformat_minor": 0,
  "metadata": {
    "colab": {
      "name": "SpotifyPlaylists.ipynb",
      "provenance": []
    },
    "kernelspec": {
      "name": "python3",
      "display_name": "Python 3"
    }
  },
  "cells": [
    {
      "cell_type": "code",
      "metadata": {
        "colab": {
          "base_uri": "https://localhost:8080/"
        },
        "id": "2WBUb_adgHTF",
        "outputId": "9fc65327-7761-47f5-b892-ed940ed38c35"
      },
      "source": [
        "!pip install selenium\n",
        "!apt-get update \n",
        "!apt install chromium-chromedriver\n",
        "\n",
        "from selenium import webdriver\n",
        "chrome_options = webdriver.ChromeOptions()\n",
        "chrome_options.add_argument('--headless')\n",
        "chrome_options.add_argument('--no-sandbox')\n",
        "chrome_options.add_argument('--disable-dev-shm-usage')\n",
        "wd = webdriver.Chrome('chromedriver',chrome_options=chrome_options)\n",
        "driver =webdriver.Chrome('chromedriver',chrome_options=chrome_options)"
      ],
      "execution_count": null,
      "outputs": [
        {
          "output_type": "stream",
          "text": [
            "Requirement already satisfied: selenium in /usr/local/lib/python3.7/dist-packages (3.141.0)\n",
            "Requirement already satisfied: urllib3 in /usr/local/lib/python3.7/dist-packages (from selenium) (1.24.3)\n",
            "Hit:1 https://cloud.r-project.org/bin/linux/ubuntu bionic-cran40/ InRelease\n",
            "Hit:2 http://security.ubuntu.com/ubuntu bionic-security InRelease\n",
            "Ign:3 https://developer.download.nvidia.com/compute/cuda/repos/ubuntu1804/x86_64  InRelease\n",
            "Hit:4 http://ppa.launchpad.net/c2d4u.team/c2d4u4.0+/ubuntu bionic InRelease\n",
            "Ign:5 https://developer.download.nvidia.com/compute/machine-learning/repos/ubuntu1804/x86_64  InRelease\n",
            "Hit:6 https://developer.download.nvidia.com/compute/cuda/repos/ubuntu1804/x86_64  Release\n",
            "Hit:7 http://archive.ubuntu.com/ubuntu bionic InRelease\n",
            "Hit:8 https://developer.download.nvidia.com/compute/machine-learning/repos/ubuntu1804/x86_64  Release\n",
            "Hit:9 http://archive.ubuntu.com/ubuntu bionic-updates InRelease\n",
            "Hit:10 http://ppa.launchpad.net/cran/libgit2/ubuntu bionic InRelease\n",
            "Hit:11 http://archive.ubuntu.com/ubuntu bionic-backports InRelease\n",
            "Hit:12 http://ppa.launchpad.net/deadsnakes/ppa/ubuntu bionic InRelease\n",
            "Hit:13 http://ppa.launchpad.net/graphics-drivers/ppa/ubuntu bionic InRelease\n",
            "Reading package lists... Done\n",
            "Reading package lists... Done\n",
            "Building dependency tree       \n",
            "Reading state information... Done\n",
            "chromium-chromedriver is already the newest version (87.0.4280.66-0ubuntu0.18.04.1).\n",
            "0 upgraded, 0 newly installed, 0 to remove and 60 not upgraded.\n"
          ],
          "name": "stdout"
        },
        {
          "output_type": "stream",
          "text": [
            "/usr/local/lib/python3.7/dist-packages/ipykernel_launcher.py:10: DeprecationWarning: use options instead of chrome_options\n",
            "  # Remove the CWD from sys.path while we load stuff.\n",
            "/usr/local/lib/python3.7/dist-packages/ipykernel_launcher.py:11: DeprecationWarning: use options instead of chrome_options\n",
            "  # This is added back by InteractiveShellApp.init_path()\n"
          ],
          "name": "stderr"
        }
      ]
    },
    {
      "cell_type": "code",
      "metadata": {
        "id": "ZGX6cIEJgLSi"
      },
      "source": [
        "wd.get(\"https://www.reddit.com/r/spotify/?f=flair_name%3A%22Playlist%22\")\n"
      ],
      "execution_count": null,
      "outputs": []
    },
    {
      "cell_type": "code",
      "metadata": {
        "id": "xaAHA6t5gx8D"
      },
      "source": [
        "import time"
      ],
      "execution_count": null,
      "outputs": []
    },
    {
      "cell_type": "code",
      "metadata": {
        "colab": {
          "base_uri": "https://localhost:8080/"
        },
        "id": "LgQZKW9agsgV",
        "outputId": "6ff84533-9d25-4018-da0a-ed3614135842"
      },
      "source": [
        "time.sleep(1)\n",
        "\n",
        "elem = wd.find_element_by_tag_name(\"a\")\n",
        "\n",
        "no_of_pagedowns = 80\n",
        "\n",
        "while no_of_pagedowns:\n",
        "    elem.send_keys(Keys.PAGE_DOWN)\n",
        "    time.sleep(4)\n",
        "    no_of_pagedowns-=1\n",
        "\n",
        "post_elems = wd.find_elements_by_class_name(\"styled-outbound-link\")\n",
        "# post_elems.get('href')\n",
        "\n",
        "for post in post_elems:\n",
        "    print(post.get_attribute('href'))\n"
      ],
      "execution_count": null,
      "outputs": [
        {
          "output_type": "stream",
          "text": [
            "https://open.spotify.com/playlist/60OoR4zn7RA8hvFjBsicLL?si=f5Y9EgaURYyPpaETNqaFUg&utm_source=copy-link\n",
            "https://open.spotify.com/playlist/24nOkCWMUilgh2oFy9i8ze?si=Q7_vErEJSDONWgPABP4xvg\n",
            "https://open.spotify.com/playlist/3LGquSg93Oo9PrI6o8EU6A?si=20uhvbyIRVSn_uy5bblNjg&utm_source=copy-link\n",
            "https://open.spotify.com/playlist/6tTmwBMsTUDcfQJU4bFxVW?si=N0DH-dJgSsSMjBMtZbNFlQ\n",
            "https://open.spotify.com/playlist/2QRoHBHvvygfovtN1k28yn?si=7VyNIznfSAOy1k5BKAxNgg\n",
            "https://open.spotify.com/playlist/4TZxd2NhpSyiy46RdBBWL2?si=jVL0Mh7ES_KKoDSQuRTj-Q&utm_source=copy-link\n",
            "https://open.spotify.com/playlist/0OllQUemlfNH5eoyBhmwGF?si=M-58ZFVpRuO1UXf8ULE74g\n",
            "https://open.spotify.com/playlist/39T4JX8hz1Uso5czaourXE?si=IufCdAuNSainfwv_mqc1RQ\n",
            "https://open.spotify.com/playlist/1JT8U7WTtfYYYFuF25fnqu?si=SZMIBbxGTU6ScC3p8dUg_g\n",
            "https://open.spotify.com/playlist/6F69zCjXPoKW3xuSGfHcN2?si=o0NB0oi9TkuBK4AMJvczWg\n",
            "https://open.spotify.com/playlist/6WuY1FWUUQCR02kLn2rNYz?si=ebc1f82efe4b43ef\n",
            "https://open.spotify.com/playlist/3j5qidCMxqAmrFTM8YWv2A?si=qec9FGfsQHm9WdwGV56Wlw\n",
            "https://open.spotify.com/playlist/3nfVuYueWPo6whG42THc3k?si=khAcHh-4QKaK7LaBdYsMCQ\n",
            "https://open.spotify.com/user/meikhel/playlist/7f6qN7RxybgyAcC4IiJ6m9?si=F7Qp8p6yThydjUD7-Y_abA\n",
            "https://open.spotify.com/playlist/76ucYsb1COZN0y2EZBzDNg?si=LfPpmRqZR8m78bqvG6r8oA\n",
            "https://open.spotify.com/playlist/26i9iajkhkVpJCqFAzsCKf?si=-prvN19cRtiNSUcC9BOaVg\n",
            "https://open.spotify.com/playlist/1viQRfgvl5Fej6hQ0OW9oc?si=RfIiKX_-Tpe1QKFOt6oZpQ\n",
            "https://open.spotify.com/playlist/3OmKx4nyyWJC2eUkwTEwmq?si=F9lIS77bRdejkQwhoW49Bg&utm_source=copy-link\n",
            "https://open.spotify.com/playlist/3RHTcos5fzW6pnpvf6ewbE?si=mtXYHIgARhaNbSB6se3kBA&utm_source=copy-link\n",
            "https://open.spotify.com/user/evallebona/playlist/0va3OQcR4TKivVvKHiRuK2?si=y0LlcZc7TnqvVg0oQEQ1Eg\n",
            "https://open.spotify.com/user/evallebona/playlist/364au7bMChKa7svQV9toH1?si=xq_Sj3WCSLePWLsYNy2OCg\n",
            "https://open.spotify.com/playlist/3gCVhygyU7RKpj19on8Axz?si=goxkXqCoQUiN1xbR80aY1w\n",
            "https://open.spotify.com/playlist/1qtYl3Vxe8PdmWmqhScuUx?si=kotP-laxQvyIIZCtdP0uaA\n",
            "https://open.spotify.com/playlist/5Zqc8UwUIekF4jlqeBd0ev?si=8QO7wuMkSCiZLhMgmD49lA\n",
            "https://open.spotify.com/playlist/6mfgmxvxWhSTApqvHNbBlN?si=OdrzwNgCSoKUc1H6S8iXhg\n",
            "https://open.spotify.com/playlist/0aGsWfvVZqBo660LXOUlPZ?si=wesodKpCQ0-bzIhayVA5Qw\n",
            "https://open.spotify.com/playlist/7K6BkRnTxJlN5uK60UQVhu?si=0xWm8nJqRjqqKEtAjvyiBQ\n",
            "https://open.spotify.com/playlist/4ybmSrtjS7wDujUoQed4P1?si=w7hiilXVQVWU1ZJUdoiOxg\n",
            "https://open.spotify.com/playlist/1Vb7VY2fyfgvZRBPX6BusT?si=6ilKgDBSSGGHFu_y3hOQOQ\n",
            "https://open.spotify.com/playlist/4Jkeg6XyU9zPmWMJY4pCmI?si=8joxRR7sTMSaNApzAEXNLw\n",
            "https://open.spotify.com/playlist/0E5ErssVHfNitm7uJFfb5J?si=ibTDJruTQNeSlRuVNMll-w\n",
            "https://open.spotify.com/playlist/6D26k8yzFNkSlIcxIo85OR?si=kj1E1nmESVqW9SXOzghQHg&utm_source=copy-link\n",
            "https://open.spotify.com/playlist/1kL2QTtarwxHXcDURmKD8X?si=2o_wzdG5QPuluqPRyh7MUQ\n",
            "https://open.spotify.com/playlist/6WhV4igOLStwvSYoq1IUCK?si=vGihc1HRRhGPagk8tiuX6A\n",
            "https://open.spotify.com/playlist/7xYpodDUMKawIDpcIkTY0l?si=fpwVVQZ1QGaNz6Umm4l2yg\n",
            "https://open.spotify.com/playlist/3N5z1auvG3wWCjBq3GIXoD?si=g986f8hbTfCJp1j9gCa_QA\n",
            "https://open.spotify.com/playlist/2e02fqoGEBIaanOnFXZMnF?si=kayMybnET6-9kWH23YvCQw\n",
            "https://open.spotify.com/playlist/5Sefvg9mMoBdaozagE63Lc?si=GMZv85eRRjKwD-Ju7VC6gA\n",
            "https://open.spotify.com/playlist/0afV9leSkZT1XtJXDQ2pt0?si=Y3XNBreoSRiVMI0cin51Jg\n",
            "https://open.spotify.com/playlist/4g7oYvF6b7X02UK9uYS8kk?si=c-9XIeCWQw68mD5KxfdIjg\n",
            "https://open.spotify.com/playlist/0va3OQcR4TKivVvKHiRuK2?si=vAAwBWPFQrOH8wCKoI1B7g\n",
            "https://open.spotify.com/playlist/364au7bMChKa7svQV9toH1?si=MxldKavNTSSxzxtPn2dtFg\n",
            "https://open.spotify.com/playlist/6TvxiO5mC05O2QOEhKOYti?si=s6uo2Ua7QRKsjex3WAG3IA\n",
            "https://open.spotify.com/playlist/6KGX5QZQtTRQGTUwcmIohp?si=4oIK-MvUSMGQ5ViHqheXFA&utm_source=copy-link\n",
            "https://open.spotify.com/playlist/6FcRgrMz36dZh7W8LyVizP\n",
            "https://open.spotify.com/playlist/5oTsDubK3muulyEhFSSTXh?si=1FYOD5ghTXSHL4Cx_key2Q\n",
            "https://open.spotify.com/playlist/5YJc9wM9Iax7d4BC1YV5zp?si=pnhBp_F6QruOjvS08IJ-WA\n",
            "https://open.spotify.com/playlist/5ityso744EBDpRYCXotGsu?si=wkxVKZv6SVqRMog5bbP54Q\n",
            "https://open.spotify.com/playlist/2DvXyY4hQgFn2z0sBT0EHj?si=drM6hn4GSreaJXGgQga-Iw\n",
            "https://open.spotify.com/playlist/0MRA4cdLi3C9VOvFkiByS9?si=Obo7b6A6SwSHYrwbrD1Mww\n",
            "https://www.reddit.com/u/Lonely-Firefighter40?utm_medium=android_app&utm_source=share\n",
            "https://open.spotify.com/playlist/2W04POxnJifnMsswWwhJlt?si=RvDW-m38QCKfzqsod102ZQ\n",
            "https://open.spotify.com/playlist/3Wnflo8gIL41Lm1ERiFGBB?si=h-qTVkzSRGGuOcGkkUZBYw\n",
            "https://open.spotify.com/playlist/4jU03gbj4P1vMd9MwPTqFA?si=-YKyG2qQSQObqmVrZv4lLg\n",
            "https://open.spotify.com/playlist/7F97cAIzUguMjQM92DXMjb?si=hGqefgSLSZCKT9JnDiOFgg&utm_source=copy-link\n",
            "https://open.spotify.com/playlist/2IiQLi60NurCN9M8cauU3e?si=hwsztEvFSRKQkb7AFpq9xA\n",
            "https://open.spotify.com/playlist/1ESsGoNUOfuObrd4IvOKs9?si=48doEiqlS6aXAK9eVSWBhQ\n",
            "https://open.spotify.com/playlist/5N0kZRxkGZL2qO6A6vfnNU?si=7LirTfMQSZeOUlJ2ZPo0tA\n",
            "https://open.spotify.com/playlist/4lkuPcr2FAJqmypRtzgkOL\n",
            "https://open.spotify.com/playlist/3r6Y95kKMEYlniwNhh1rZI?si=3bAusSAHQLC6yM643w2tLg\n",
            "https://open.spotify.com/playlist/0dJezg5q5vI3Fm4jmbfasx?si=sWKb2GNmRxiQ0xYT4RiPiw\n",
            "https://open.spotify.com/playlist/29dvD2eEYQR1DlGChiqrX9?si=DaReVfnKQgykb36ae7vDiA\n",
            "https://open.spotify.com/playlist/1fI3S30St6x6rOS3lyWTMn\n",
            "https://open.spotify.com/user/313v5vtaxmsycalikjqjbbk2x764/playlist/08DtJ49SeqYEKBwBZZUXUm?si=F0N-hpRHRmuGSrzBzAHUoA\n",
            "https://open.spotify.com/playlist/2VcOkY7S1DsoTjPNm7yXEn?si=00dgqd82QIulcNr_f8dEDQ\n",
            "https://open.spotify.com/playlist/76ucYsb1COZN0y2EZBzDNg?si=8ID2BZnxQxm5Wni50knrPw\n",
            "https://open.spotify.com/playlist/5THQ84yt1XUwnO9hfXDJmU?si=00de928f68694483\n",
            "https://open.spotify.com/playlist/0g0Ikc9fjNm0LQEYDJanev?si=lB1g5WOuTzWwXivLY6OoiA\n",
            "https://open.spotify.com/user/evallebona/playlist/0va3OQcR4TKivVvKHiRuK2?si=IuFLcyr9RZCdNIexLClX5Q\n",
            "https://open.spotify.com/user/evallebona/playlist/364au7bMChKa7svQV9toH1?si=f5txkiWvTIyZZkB_GRg_Xg\n",
            "https://open.spotify.com/playlist/0mLGy0cigSofnB194Qeqay?si=sAWmRwdURXCjk3BHnxI3yQ\n",
            "https://open.spotify.com/playlist/2k4C0E0yFFBYkl9WBLFz6J?si=kLlLBFhFSE-GWi3bgqlcJQ\n",
            "https://open.spotify.com/playlist/1dIjSiFzc8yvwzmbp3MdZX?si=fF4GJ-b7RPCZI9JqKq_Ndw\n",
            "https://open.spotify.com/playlist/55MQsmtXWf2LQS74dL0wX2?si=pwxxi3AuQcGqPbO507H37Q\n",
            "https://open.spotify.com/playlist/52uO5UObHSx1rtKlZPoHZw?si=tgVrHe6FROCWY0UdMcEpig&utm_source=copy-link\n",
            "https://open.spotify.com/playlist/0LzzW0dtGjXYfvjdk30SqJ?si=l0Zws-x7Rb69XwRTc7xZMg\n",
            "https://open.spotify.com/user/pj5qsjdyc77xu7tcm7xsecxfc/playlist/6LkqNdiE9sStvqz1oiZfbC?si=AQN4at3vR8KcWikFLSpBhw\n",
            "https://open.spotify.com/playlist/1qrQmFGxfqBNxsDSjATqFC?si=Scr5qOfuRqqrx-2AQHx3KQ&utm_source=copy-link\n",
            "https://open.spotify.com/playlist/206GfCiLgjb1yHIfU4o93T?si=oYO9lfE_Q3yhhfVqyPvF9Q\n",
            "https://open.spotify.com/playlist/3CPQM5Eobj7fH7AS5Fm4ZK?si=XV_q76NwRFyfTDapQigcmw\n",
            "https://open.spotify.com/playlist/2tesTWsYISkRd7jJvm1CWM?si=XIW0BS51Rp2uxmi-mNJRdw\n",
            "https://open.spotify.com/playlist/0WxzJAgEfserDsBnabP77G?si=mT82gh9SQLmMJzxZ3svFEQ\n",
            "https://open.spotify.com/user/psmb072x0x0k0lwstssu13s6u/playlist/2WY3WllbjVALgqy5kTDBrn?si=7IZjbdBqQLqe3BQ5DauvOA\n",
            "https://open.spotify.com/playlist/3zsZ3hFOOPJULk1hBCDgqS?si=njNv7f6qQsG0ob4KrY3J4w\n",
            "https://open.spotify.com/playlist/0ptJnlC23VWzMdORSWbDtR?si=Vwv6j0eDSX-Mzya-wQkwvw\n",
            "https://open.spotify.com/playlist/6LSDCla84rb9FCgvmhNCbh?si=JXYtEmkSTf-ezpZ7yLP6yg\n",
            "https://open.spotify.com/playlist/14Z4f9A4iLXSXTcvnqa0v5?si=kV1r4e78TqiUaLirJhS0LA\n",
            "https://open.spotify.com/playlist/5ilSo0aiWYcNAs57nXAZ1H?si=7IBkg0mjQaGITV7DwAM6cw&utm_source=copy-link\n",
            "https://open.spotify.com/playlist/5KTYVtEJC4lXlXXiAjTuHc?si=Uw0s5g_6QNiKUcxZUVCtHg\n",
            "https://open.spotify.com/playlist/1P8NJAkABcbtWJPCWksnoQ?si=ScAgimh0QwWkb9rsooAjPw\n",
            "https://open.spotify.com/user/dskuber/playlist/1ox46NXCVoijMVQJqVJmwt?si=1n1YnCIGRra2nayJOrYYWA\n",
            "https://open.spotify.com/playlist/7Jfz9bJbNXRqfFTY7H4bR3\n",
            "https://open.spotify.com/playlist/69NJFsSFMPzE6ag4fldtYv\n",
            "https://open.spotify.com/playlist/2k4C0E0yFFBYkl9WBLFz6J?si=kLlLBFhFSE-GWi3bgqlcJQ\n",
            "https://open.spotify.com/user/kx44kc3rdnwe8tjt5wo126o03/playlist/2lWOlP2EhWUzRk35qdr6g5?si=rxw5zOWcSSyKzEbki96VEQ\n",
            "https://open.spotify.com/playlist/5Gc12zTFaPHc11DCogrFq3?si=W20BbyFSRgSgbig8Rmv9-g\n",
            "https://open.spotify.com/playlist/0a7ft4W6CwdyKrDhXhVAGN?si=Fc9iuoZPTYm2QSka_nTZmA\n",
            "https://open.spotify.com/playlist/3vdGfDw6MsXU8nM3Jv2nQV?si=F3ILwVKLQ7-dbVzn47nOAg\n",
            "https://open.spotify.com/playlist/5UfiwThC0gvONNzxiiQd4c?si=ZhmkEnZJQHWiguFj0Fwn0Q&utm_source=copy-link\n",
            "https://open.spotify.com/playlist/3xhLMfbOWgd1FrkHXON0ay?si=5bgaFjFrTHWBcJsdPPZrQg\n",
            "https://open.spotify.com/playlist/6k7MjkIFko02ItnZyqHLko?si=gR3ox7axRXutHNHxzHApJA\n",
            "https://open.spotify.com/playlist/2IzNywiLK4VcU39SAX3ZZX?si=JJeK4o-QTYCWLL7WDY0n0A&utm_source=copy-link\n",
            "https://open.spotify.com/playlist/5wflwf5aKQubPwPCuXQKxp?si=1pFDdLbzRVmKnrLxrIGdgw\n",
            "https://open.spotify.com/playlist/4guACg9h4MYeuRXUnRfvhg?si=fwroBJerSB2qIgxUJQCDDg\n",
            "https://open.spotify.com/playlist/74vlgwse9su4ANVMw8v0Du?si=lyOH7r3cRyGinnJQAxAtTQ\n",
            "https://open.spotify.com/playlist/1JuSnKxoCVxGsfu0SmiG1m?si=CQvpSLPFTPanCUo7bXayNw&utm_source=copy-link\n",
            "https://open.spotify.com/playlist/09pvqGUkOJ7zcWHZIXjJSZ?si=QSRs6JH-QkeYogdGi1KDYA&utm_source=copy-link\n",
            "https://open.spotify.com/playlist/5lUKay3RPL3Mh1xq5PL0hU?si=FmmiBS0wTums08qsfeX37A\n",
            "https://open.spotify.com/playlist/6COuzOeJj3FVKQ95tJzCIF\n",
            "https://open.spotify.com/playlist/2m2CwV1VfD87VOTYR8gNST?si=1c9bJR4tQ06tLpuzYVRnjw\n",
            "https://open.spotify.com/playlist/2BZkYxZIX3btRRaHqlUyVb?si=S5G-0U8ISS2EAJ82sSFhag\n",
            "https://open.spotify.com/playlist/5j6lfWCxozklxrHOQ6yrlP?si=gcO_PH31S1usfP4_MZ_bLQ\n",
            "https://open.spotify.com/playlist/1as5PJYOG4cH3SEYfozWlE?si=chiJNBm8SFWo-f5BRQcmpw\n",
            "https://open.spotify.com/playlist/2STrjKGiHcHHUcDPNtwOIS?si=hqjlrJ1rRK-wJXIEKp0-Jw\n",
            "https://open.spotify.com/user/22ma4j5qyt6kkyyrqpoi6flsi/playlist/2UQNN3sudPnXBgtekKWRXx?si=kmb7-qGpRzaX0kM8Cvx7RQ\n",
            "https://open.spotify.com/playlist/0ZWL4Cj7UidX4Z7oNNX7Hq?si=_6q81oMVRgOqo7ZlJMO2TA\n",
            "https://open.spotify.com/playlist/6F69zCjXPoKW3xuSGfHcN2?si=g9jIre6HQDGYVNsy9n9-dg\n",
            "https://open.spotify.com/playlist/5aDHR0YLUoZRInrHmwBezG?si=WGPVEUL8RYCdEM5w9FozwQ\n",
            "https://open.spotify.com/user/ysokfbz5cds1zjuytztx47oti/playlist/3fOvZ2rqlKZ7eXBxGhroEB?si=JTyjKVLNS6WkNFJWAi9iNA\n",
            "https://open.spotify.com/user/ysokfbz5cds1zjuytztx47oti/playlist/4Iyrjlw7bW6zXagr5rJyRe?si=bnSptPEqSZakZnFXvg_5iw\n",
            "https://open.spotify.com/user/ysokfbz5cds1zjuytztx47oti/playlist/61YMZvp6AIAMSEg8LA4oQ5?si=FrGXqnKnQzmYRcDRfvnrNQ\n",
            "https://open.spotify.com/user/ysokfbz5cds1zjuytztx47oti/playlist/6LTqDG8s6secgTWbtvxO0p?si=5vyHkkt1Q4WUpwScPp5QsA\n",
            "https://open.spotify.com/user/ysokfbz5cds1zjuytztx47oti/playlist/5r88D8k0IDkel6u3MZNg82?si=oYx3DkKLRCuul8meq3ljpQ\n",
            "https://open.spotify.com/playlist/2upqDa4KlAcsfnRVDXfy68?si=djgVXaJ-SpKPKZswx4xzTQ\n",
            "https://open.spotify.com/playlist/2YC2iHYRvwyAs592yWKRfy?si=nXNxpdv0R7iH29V4sHwpgg\n",
            "https://open.spotify.com/playlist/647IBAsOkWRfu70W3RqkJ3?si=2j5GKjWzQNGEqBfpNP_6fg\n",
            "https://open.spotify.com/playlist/3zsZ3hFOOPJULk1hBCDgqS?si=LT9XnktSQGu5FxYRUuAN3A\n",
            "https://open.spotify.com/playlist/59ksEO9as6VBgyxPaP6xVP?si=WuBivi-cQG6NhvFr75yhPQ\n",
            "https://open.spotify.com/playlist/5EC7QyoGbK9d2ReBxrAU8M?si=aarFlPS0QTGuxYZQU_rPmQ\n",
            "https://open.spotify.com/playlist/3tlhtQ5Vd8fCd1X7I6QWCS?si=wOuFV8r2QI2dbjvOHzmBMw\n",
            "https://open.spotify.com/playlist/7epKMPDUavRvVgdxjf6xgI?si=CQmhZxe5Ty2jDFMnqUslkw\n",
            "https://open.spotify.com/playlist/4wlukspd7VRmI0GwWpU1W1?si=imXKDhNXS2Wtu3_T5cdlmA\n",
            "https://open.spotify.com/playlist/3XwR4xli7v8CAINPKceqpg?si=WShLHDWRThiDSupngXdxoQ\n",
            "https://open.spotify.com/playlist/6XylONoFyAyoZSzbFf5Tgl?si=W1ZfJI9dQQShm9MOKqba2w\n",
            "https://open.spotify.com/playlist/2zZ20uuBTpaSXWpOlJkt7J?si=DQ9OgIluST6SV14ExD5KPw\n",
            "https://open.spotify.com/playlist/2xprAOAO0bPjec45puo08f\n",
            "https://open.spotify.com/user/aguxmusic/playlist/76ecLfjgE4ShVxifpgNZTl?si=aXDPb7BTRVidGnLSuz6qdw\n",
            "https://open.spotify.com/playlist/3j5PIti2U5U0Kt0y8ELgoN\n",
            "https://open.spotify.com/playlist/2QGKp2y5zDGoEpjY53OMpY?si=4Um8jv33T6O_nDE8qmiNZA\n",
            "https://open.spotify.com/playlist/2k4C0E0yFFBYkl9WBLFz6J?si=kLlLBFhFSE-GWi3bgqlcJQ\n",
            "https://open.spotify.com/playlist/3zsZ3hFOOPJULk1hBCDgqS?si=_3kKBRUPRz-SSmM7-xj7dg\n",
            "https://open.spotify.com/user/ysokfbz5cds1zjuytztx47oti/playlist/7saRWlt2WM8aPFex7XKn5T?si=xu2mMqIaQBejzveHFHcbSA\n",
            "https://open.spotify.com/playlist/1oO3g8z6oGfhCSORWETsM7?si=OlSBFy7jTaKu516OlN6Whg\n",
            "https://open.spotify.com/playlist/0OllQUemlfNH5eoyBhmwGF?si=M-58ZFVpRuO1UXf8ULE74g\n",
            "https://open.spotify.com/playlist/74vlgwse9su4ANVMw8v0Du?si=uK8UiVGmQem5v6J4dUqBnA\n",
            "https://open.spotify.com/playlist/1fQuihsakd0ahpSOy7MxGy?si=eNP5m7LiSmmPYzndSlCNuw\n",
            "https://open.spotify.com/playlist/1sQCMzZGuQvBBB9rH6yElc?si=ox-O1EI7R7OCxmoeBW_t7Q\n",
            "https://open.spotify.com/playlist/0DFx3qZq23PoDrpb09IEEy?si=VX6GpU3wR-qZdQ-oj_rAlw\n",
            "https://open.spotify.com/playlist/1as5PJYOG4cH3SEYfozWlE?si=ECwR0xW1QjKDVwxnxvfCIA\n",
            "https://open.spotify.com/user/jl6v25fv87tl0qcgktsf1uwk4/playlist/2upqDa4KlAcsfnRVDXfy68?si=-hPdeYkzR4eDYzuy50VckQ\n",
            "https://open.spotify.com/user/jl6v25fv87tl0qcgktsf1uwk4/playlist/4QEJFTVNGLsZUj5OgQAmhI?si=h2uRTXgJQxSTmwwGH-i9Qw\n",
            "https://open.spotify.com/playlist/5yZ4z4C63i43eglDqVsKGG?si=OjxG1d4eSWKQQnNR_L2feA\n",
            "https://open.spotify.com/user/s61spi533ydqwr4igipjxdjca/playlist/3QGK1LFRtU5mSb2vctw1cf?si=FHYNOUhuRe6v9XlYAmfPoQ\n",
            "https://open.spotify.com/playlist/6F69zCjXPoKW3xuSGfHcN2?si=g9jIre6HQDGYVNsy9n9-dg\n",
            "https://open.spotify.com/playlist/0tsi13VCeeZzmqv14vkjDD?si=mAeC7vbaTnS-2zMyMfRqOQ\n",
            "https://open.spotify.com/playlist/3DrMAEJPtSZCcikpdERBIJ?si=p5Dx0QbwQfCdUkahXhMVCQ\n",
            "https://open.spotify.com/playlist/4uuu0MWXtdK3lalcEAKi3r?si=qp83HvTpT26FYjiy3XhvgQ\n",
            "https://open.spotify.com/playlist/3zsZ3hFOOPJULk1hBCDgqS?si=GSP5iH8RT6OtOfirc9FZoQ\n",
            "https://open.spotify.com/playlist/3tlhtQ5Vd8fCd1X7I6QWCS?si=wOuFV8r2QI2dbjvOHzmBMw\n",
            "https://open.spotify.com/playlist/1Ta28nMJjERleH1VXniwhE?si=uqmGModHTUud0ADTSRED0Q\n"
          ],
          "name": "stdout"
        }
      ]
    },
    {
      "cell_type": "code",
      "metadata": {
        "colab": {
          "base_uri": "https://localhost:8080/"
        },
        "id": "1sCiyHPYigfp",
        "outputId": "8b1c550b-7d4b-4ed8-86b1-b642d9262ec5"
      },
      "source": [
        "print(len(post_elems))"
      ],
      "execution_count": null,
      "outputs": [
        {
          "output_type": "stream",
          "text": [
            "160\n"
          ],
          "name": "stdout"
        }
      ]
    }
  ]
}